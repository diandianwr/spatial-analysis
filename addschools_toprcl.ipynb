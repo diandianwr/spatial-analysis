{
 "cells": [
  {
   "cell_type": "markdown",
   "metadata": {},
   "source": [
    "Updating Schools Layers\n",
    "\n",
    "1.\tUpdating individual school layer in school database(school.gdb)\n",
    "2.\tMerge schools into four categories and create four layers : \n",
    "    o\tElem\n",
    "    o\tMidd\n",
    "    o\tHigh\n",
    "    o\tOther\n",
    "This step can be done through running python scripts below.Make sure change output file name since it cannot exist before merge.\n"
   ]
  },
  {
   "cell_type": "code",
   "execution_count": null,
   "metadata": {
    "collapsed": true
   },
   "outputs": [],
   "source": [
    "import arcpy  #you can copy the code to arcgis python window\n",
    "elem =[]\n",
    "mid =[]\n",
    "high =[]\n",
    "other =[]\n",
    "\n",
    "loc = \"/Projects/UrbanSim/NEW_DIRECTORY/Schools/school.gdb\"\n",
    "#Make sure change output file name since it cannot exist before merge\n",
    "\n",
    "arcpy.env.workspace = loc + \"/elem\"\n",
    "for FeatClass in arcpy.ListFeatureClasses():\n",
    "        elem.append(FeatClass)\n",
    "\n",
    "arcpy.Merge_management(elem, loc+\"/Merged_elem\")\n",
    "\n",
    "\n",
    "arcpy.env.workspace =loc + \"/midd\"\n",
    "for FeatClass in arcpy.ListFeatureClasses():\n",
    "        mid.append(FeatClass)\n",
    "\n",
    "arcpy.Merge_management(mid, loc+\"/Merged_midd\")\n",
    "\n",
    "arcpy.env.workspace= loc + \"/high\"\n",
    "for FeatClass in arcpy.ListFeatureClasses():\n",
    "        high.append(FeatClass)\n",
    "arcpy.Merge_management(high, loc+\"/Merged_high\")\n",
    "\n",
    "\n",
    "arcpy.env.workspace= loc + \"/Other\"\n",
    "for FeatClass in arcpy.ListFeatureClasses():\n",
    "        other.append(FeatClass)        \n",
    "arcpy.Merge_management(other, loc+\"/Merged_other\")        "
   ]
  },
  {
   "cell_type": "markdown",
   "metadata": {},
   "source": [
    "Joining School data to parcel data\n",
    "\n",
    "3.\tAdd target parcel data into database, and conduct spatial join with the merged school layers using scripts below"
   ]
  },
  {
   "cell_type": "code",
   "execution_count": null,
   "metadata": {
    "collapsed": true
   },
   "outputs": [],
   "source": [
    "target = loc + \"/prcl15\"\n",
    "join_features1 =loc+\"/Merged_elem\"\n",
    "join_features2 = loc+\"/Merged_mid\"\n",
    "join_features3 = loc+\"/Merged_high\"\n",
    "join_features4 = loc+\"/Merged_other\"\n",
    "\n",
    "output1 = loc+\"output1\"\n",
    "output2 = loc+\"output2\"\n",
    "output3 = loc+\"output3\"\n",
    "output4 = loc+\"output4\"\n",
    "\n",
    "arcpy.SpatialJoin_analysis(target, join_features1,output1,\"JOIN_ONE_TO_ONE\",\"#\",\"#\",\"INTERSECT\")\n",
    "arcpy.SpatialJoin_analysis(output1, join_features2,output2,\"JOIN_ONE_TO_ONE\",\"#\",\"#\",\"INTERSECT\")\n",
    "arcpy.SpatialJoin_analysis(output2, join_features3,output3,\"JOIN_ONE_TO_ONE\",\"#\",\"#\",\"INTERSECT\")\n",
    "arcpy.SpatialJoin_analysis(output3, join_features4,output4,\"JOIN_ONE_TO_ONE\",\"#\",\"#\",\"INTERSECT\")"
   ]
  },
  {
   "cell_type": "markdown",
   "metadata": {},
   "source": [
    "4.\tExported parcel with joint information to “output.shp” file\n",
    "5.\tCombine fields together in python script below"
   ]
  },
  {
   "cell_type": "code",
   "execution_count": 9,
   "metadata": {
    "collapsed": false
   },
   "outputs": [],
   "source": [
    "import sys, os\n",
    "import csv\n",
    "import pandas as pd\n",
    "import numpy as np\n",
    "from dbfread import DBF\n",
    "os.chdir(\"/Projects/UrbanSim/NEW_DIRECTORY/Schools/2014parcel/shp\")"
   ]
  },
  {
   "cell_type": "code",
   "execution_count": 4,
   "metadata": {
    "collapsed": false
   },
   "outputs": [],
   "source": [
    "#read dbf into dataframe\n",
    "from simpledbf import Dbf5\n",
    "dbf = Dbf5('prcl15_school.dbf')\n",
    "df = dbf.to_dataframe()"
   ]
  },
  {
   "cell_type": "code",
   "execution_count": 17,
   "metadata": {
    "collapsed": false
   },
   "outputs": [],
   "source": [
    "#conbine join\n",
    "df['ElemName'] =df['Elem_Name']\n",
    "df['MiddName'] =df['Midd_Name']\n",
    "df['HighName'] =df['High_Name']\n",
    "df['ElemName'] = np.where(pd.isnull(df['Midd_Name']), df['Midd_Name_'],df['Midd_Name'])\n",
    "df['MiddName'] = np.where(pd.isnull(df['Elem_Name']), df['Elem_Name_'],df['Elem_Name'])\n",
    "df['HighName'] = np.where(pd.isnull(df['High_Name']), df['High_Name_'],df['High_Name'])"
   ]
  },
  {
   "cell_type": "code",
   "execution_count": 18,
   "metadata": {
    "collapsed": true
   },
   "outputs": [],
   "source": [
    "df['ElemID'] = df['Elem_ID']\n",
    "df['MiddID'] = df['Midd_ID']\n",
    "df['HighID'] = df['High_ID']\n",
    "df['ElemID'] = np.where(df['Elem_ID']==0, df['Elem_ID_1'],df['Elem_ID'])\n",
    "df['MiddID'] = np.where(df['Midd_ID']==0, df['Midd_ID_1'],df['Midd_ID'])\n",
    "df['HighID'] = np.where(df['High_ID']==0, df['High_ID_1'],df['High_ID'])"
   ]
  },
  {
   "cell_type": "code",
   "execution_count": 27,
   "metadata": {
    "collapsed": false
   },
   "outputs": [],
   "source": [
    "#export dataframe to csv file\n",
    "col_want = ['PIN','PSRC_ID','POINT_X','POINT_Y','ElemID','ElemName',\n",
    "            'MiddID','MiddName','HighID','HighName']\n",
    "output = df[col_want]\n",
    "output.to_csv('/Projects/UrbanSim/NEW_DIRECTORY/Schools/2014parcel/prcl_sch_0308.csv')"
   ]
  },
  {
   "cell_type": "code",
   "execution_count": 28,
   "metadata": {
    "collapsed": false
   },
   "outputs": [
    {
     "data": {
      "text/plain": [
       "PIN         1268946\n",
       "PSRC_ID     1276388\n",
       "POINT_X     1276388\n",
       "POINT_Y     1276388\n",
       "ElemID      1276388\n",
       "ElemName    1196860\n",
       "MiddID      1276388\n",
       "MiddName    1196860\n",
       "HighID      1276388\n",
       "HighName    1201751\n",
       "dtype: int64"
      ]
     },
     "execution_count": 28,
     "metadata": {},
     "output_type": "execute_result"
    }
   ],
   "source": [
    "output.count()"
   ]
  },
  {
   "cell_type": "code",
   "execution_count": null,
   "metadata": {
    "collapsed": true
   },
   "outputs": [],
   "source": []
  }
 ],
 "metadata": {
  "kernelspec": {
   "display_name": "Python 2",
   "language": "python",
   "name": "python2"
  },
  "language_info": {
   "codemirror_mode": {
    "name": "ipython",
    "version": 2
   },
   "file_extension": ".py",
   "mimetype": "text/x-python",
   "name": "python",
   "nbconvert_exporter": "python",
   "pygments_lexer": "ipython2",
   "version": "2.7.9"
  }
 },
 "nbformat": 4,
 "nbformat_minor": 0
}
