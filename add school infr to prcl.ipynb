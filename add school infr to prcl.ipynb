{
 "cells": [
  {
   "cell_type": "markdown",
   "metadata": {},
   "source": [
    "merge multiple featureclasses to one"
   ]
  },
  {
   "cell_type": "code",
   "execution_count": null,
   "metadata": {
    "collapsed": true
   },
   "outputs": [],
   "source": [
    "\n",
    "import arcpy\n",
    "\n",
    "elem =[]\n",
    "mid =[]\n",
    "high =[]\n",
    "other =[]\n",
    "\n",
    "\n",
    "#Make sure change output file name since it cannot exist before merge\n",
    "\n",
    "arcpy.env.workspace = loc + \"/elem\"\n",
    "for FeatClass in arcpy.ListFeatureClasses():\n",
    "        elem.append(FeatClass)\n",
    "\n",
    "arcpy.Merge_management(elem, loc+\"/sch_merge/Merged_elem\")\n",
    "\n",
    "\n",
    "arcpy.env.workspace =loc + \"/midd\"\n",
    "for FeatClass in arcpy.ListFeatureClasses():\n",
    "        mid.append(FeatClass)\n",
    "\n",
    "arcpy.Merge_management(mid, loc+\"/sch_merge/Merged_mid\")\n",
    "\n",
    "\n",
    "arcpy.env.workspace= loc + \"/high\"\n",
    "for FeatClass in arcpy.ListFeatureClasses():\n",
    "        high.append(FeatClass)\n",
    "arcpy.Merge_management(high, loc+\"/sch_merge/Merged_high\")\n",
    "\n",
    "\n",
    "arcpy.env.workspace= loc + \"/other\"\n",
    "for FeatClass in arcpy.ListFeatureClasses():\n",
    "        other.append(FeatClass)        \n",
    "arcpy.Merge_management(other, loc+\"sch_merge/Merged_other\")        \n",
    "\n",
    "arcpy.AddSpatialIndex_management(in_features)       \n"
   ]
  },
  {
   "cell_type": "markdown",
   "metadata": {},
   "source": [
    "Spatial Join using arcpy\n",
    "Using arcpy is taking longer time than conduct the spatial join in arcMap"
   ]
  },
  {
   "cell_type": "code",
   "execution_count": null,
   "metadata": {
    "collapsed": true
   },
   "outputs": [],
   "source": [
    "\n",
    "target = loc + \"/prcl15\"\n",
    "join_features1 =loc+\"/sch_merge/Merged_elem\"\n",
    "join_features2 = loc+\"/sch_merge/Merged_mid\"\n",
    "join_features3 = loc+\"/sch_merge/Merged_high\"\n",
    "join_features4 = loc+\"sch_merge/Merged_other\"\n",
    "\n",
    "output1 = loc+\"output1\"\n",
    "output2 = loc+\"output2\"\n",
    "output3 = loc+\"output3\"\n",
    "output4 = loc +\"output4\"\n",
    "\n",
    "arcpy.SpatialJoin_analysis(target, join_features1,output1,\"JOIN_ONE_TO_ONE\",\"#\",\"#\",\"INTERSECT\")\n",
    "arcpy.SpatialJoin_analysis(output1, join_features2,output2,\"JOIN_ONE_TO_ONE\",\"#\",\"#\",\"INTERSECT\")\n",
    "arcpy.SpatialJoin_analysis(output2, join_features3,output3,\"JOIN_ONE_TO_ONE\",\"#\",\"#\",\"INTERSECT\")\n",
    "arcpy.SpatialJoin_analysis(output3, join_features4,output4,\"JOIN_ONE_TO_ONE\",\"#\",\"#\",\"INTERSECT\")\n",
    "\n",
    "arcpy.TableToExcel_conversion(output4, prcl15_school)"
   ]
  },
  {
   "cell_type": "code",
   "execution_count": 2,
   "metadata": {
    "collapsed": false
   },
   "outputs": [],
   "source": [
    "import sys, os\n",
    "import csv\n",
    "from dbfread import DBF\n",
    "\n",
    "os.chdir(\"J:/Projects/UrbanSim/NEW_DIRECTORY/Schools/2014parcel\")\n",
    "\n"
   ]
  },
  {
   "cell_type": "code",
   "execution_count": 6,
   "metadata": {
    "collapsed": false
   },
   "outputs": [],
   "source": [
    "from simpledbf import Dbf5\n",
    "dbf = Dbf5('prcl15_sch.dbf')\n",
    "df = dbf.to_dataframe()"
   ]
  },
  {
   "cell_type": "code",
   "execution_count": 7,
   "metadata": {
    "collapsed": false
   },
   "outputs": [
    {
     "name": "stdout",
     "output_type": "stream",
     "text": [
      "<class 'pandas.core.frame.DataFrame'>\n",
      "Int64Index: 1276388 entries, 0 to 1276387\n",
      "Data columns (total 33 columns):\n",
      "OBJECTID_1    1276388 non-null int64\n",
      "Join_Count    1276388 non-null int64\n",
      "TARGET_FID    1276388 non-null int64\n",
      "Join_Cou_1    1276388 non-null int64\n",
      "TARGET_F_1    1276388 non-null int64\n",
      "OBJECTID_2    1276388 non-null int64\n",
      "TAZ           1276388 non-null int64\n",
      "park          1276388 non-null int64\n",
      "acres         1276388 non-null float64\n",
      "OBJECTID      1276388 non-null float64\n",
      "PIN           1268946 non-null object\n",
      "AREA          1276388 non-null float64\n",
      "COUNTY        1276388 non-null float64\n",
      "MAJOR         603143 non-null object\n",
      "MINOR         603143 non-null object\n",
      "SHAPE_LENG    1276388 non-null float64\n",
      "PSRC_ID       1276388 non-null float64\n",
      "Shape_Le_1    1276388 non-null float64\n",
      "ORIG_FID      1276388 non-null int64\n",
      "POINT_X       1276388 non-null float64\n",
      "POINT_Y       1276388 non-null float64\n",
      "Elem_ID       1276388 non-null int64\n",
      "Elem_Name     805634 non-null object\n",
      "Midd_ID       1276388 non-null int64\n",
      "Midd_Name     532219 non-null object\n",
      "High_ID       1276388 non-null int64\n",
      "High_Name     577388 non-null object\n",
      "Elem_ID_1     1276388 non-null int64\n",
      "Elem_Name_    377665 non-null object\n",
      "Midd_ID_1     1276388 non-null int64\n",
      "Midd_Name_    667591 non-null object\n",
      "High_ID_1     1276388 non-null int64\n",
      "High_Name_    610848 non-null object\n",
      "dtypes: float64(9), int64(15), object(9)\n",
      "memory usage: 331.1+ MB\n"
     ]
    }
   ],
   "source": [
    "df.info()"
   ]
  },
  {
   "cell_type": "code",
   "execution_count": 14,
   "metadata": {
    "collapsed": false
   },
   "outputs": [],
   "source": [
    "col_want = ['PIN','PSRC_ID','POINT_X','POINT_Y','Elem_ID','Elem_ID_1','Elem_Name','Elem_Name_',\n",
    "            'Midd_ID','Midd_ID_1','Midd_Name','Midd_Name_','High_ID','High_ID_1','High_Name','High_Name_']\n",
    "output = df[col_want]"
   ]
  },
  {
   "cell_type": "code",
   "execution_count": 1,
   "metadata": {
    "collapsed": false
   },
   "outputs": [
    {
     "ename": "NameError",
     "evalue": "name 'df' is not defined",
     "output_type": "error",
     "traceback": [
      "\u001b[1;31m---------------------------------------------------------------------------\u001b[0m",
      "\u001b[1;31mNameError\u001b[0m                                 Traceback (most recent call last)",
      "\u001b[1;32m<ipython-input-1-7ed0097d7e9e>\u001b[0m in \u001b[0;36m<module>\u001b[1;34m()\u001b[0m\n\u001b[1;32m----> 1\u001b[1;33m \u001b[0mdf\u001b[0m\u001b[1;33m\u001b[0m\u001b[0m\n\u001b[0m",
      "\u001b[1;31mNameError\u001b[0m: name 'df' is not defined"
     ]
    }
   ],
   "source": [
    "df"
   ]
  },
  {
   "cell_type": "code",
   "execution_count": null,
   "metadata": {
    "collapsed": true
   },
   "outputs": [],
   "source": []
  }
 ],
 "metadata": {
  "kernelspec": {
   "display_name": "Python 2",
   "language": "python",
   "name": "python2"
  },
  "language_info": {
   "codemirror_mode": {
    "name": "ipython",
    "version": 2
   },
   "file_extension": ".py",
   "mimetype": "text/x-python",
   "name": "python",
   "nbconvert_exporter": "python",
   "pygments_lexer": "ipython2",
   "version": "2.7.9"
  }
 },
 "nbformat": 4,
 "nbformat_minor": 0
}
